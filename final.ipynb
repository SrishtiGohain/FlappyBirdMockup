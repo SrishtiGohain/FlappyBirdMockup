{
 "cells": [
  {
   "cell_type": "markdown",
   "metadata": {},
   "source": [
    "## Importing packages"
   ]
  },
  {
   "cell_type": "code",
   "execution_count": 1,
   "metadata": {},
   "outputs": [
    {
     "name": "stdout",
     "output_type": "stream",
     "text": [
      "pygame 1.9.6\n",
      "Hello from the pygame community. https://www.pygame.org/contribute.html\n"
     ]
    }
   ],
   "source": [
    "import pygame as pg #for visuals\n",
    "import time\n",
    "import os\n",
    "import random #for randomly changing height of the hurdles\n",
    "import neat\n",
    "pg.font.init()"
   ]
  },
  {
   "cell_type": "markdown",
   "metadata": {},
   "source": [
    "## Global variables"
   ]
  },
  {
   "cell_type": "code",
   "execution_count": 2,
   "metadata": {},
   "outputs": [],
   "source": [
    "w_width = 600\n",
    "w_height = 750\n",
    "gen=0"
   ]
  },
  {
   "cell_type": "markdown",
   "metadata": {},
   "source": [
    "#### Importing all the required images from the imgs folder to make a game frame."
   ]
  },
  {
   "cell_type": "code",
   "execution_count": 3,
   "metadata": {},
   "outputs": [],
   "source": [
    "planeimgs = [pg.image.load(os.path.join(\"imgs\",\"planeYellow1.png\")),\n",
    "             pg.image.load(os.path.join(\"imgs\",\"planeYellow2.png\")),\n",
    "             pg.image.load(os.path.join(\"imgs\",\"planeYellow3.png\"))] \n",
    "            #scale2x() makes the images twice the original size\n",
    "            #load() loads the images"
   ]
  },
  {
   "cell_type": "code",
   "execution_count": 4,
   "metadata": {},
   "outputs": [],
   "source": [
    "hurdleimg = pg.transform.scale2x(pg.image.load(os.path.join(\"imgs\",\"rockGrass.png\")))"
   ]
  },
  {
   "cell_type": "code",
   "execution_count": 5,
   "metadata": {},
   "outputs": [],
   "source": [
    "baseimg = pg.transform.scale2x(pg.image.load(os.path.join(\"imgs\",\"groundGrass.png\")))"
   ]
  },
  {
   "cell_type": "code",
   "execution_count": 6,
   "metadata": {},
   "outputs": [],
   "source": [
    "bgimg = pg.transform.scale2x(pg.image.load(os.path.join(\"imgs\",\"background.png\")))\n",
    "\n",
    "stat_font=pg.font.SysFont(\"comicsans\",50)"
   ]
  },
  {
   "cell_type": "markdown",
   "metadata": {},
   "source": [
    "## Plane class"
   ]
  },
  {
   "cell_type": "code",
   "execution_count": 7,
   "metadata": {},
   "outputs": [],
   "source": [
    "class Plane:\n",
    "    maxrot = 25  #maximum rotation - how much the plane may tilt\n",
    "    rotvel = 20  #how much to rotate each frame when the plane is rotated\n",
    "    anitime = 5  #how long to show each plane animation\n",
    "    imgg = planeimgs\n",
    "    \n",
    "    def __init__(self, x, y):\n",
    "         \n",
    "            #starting positions of the plane\n",
    "        self.x = x\n",
    "        self.y = y\n",
    "        \n",
    "        self.tilt = 0  #how much the plane is actually titled - 0 initially because we want it to start at a horizontal position\n",
    "        self.tick_count = 0 #get to know how high or low the plane, when we last jumped\n",
    "        self.vel = 0\n",
    "        self.height = self.y\n",
    "        self.img_count = 0 #so as to know which image is currently being displayed\n",
    "        self.imgs = planeimgs[0] #basically first plane image\n",
    "        \n",
    "    def jump(self):\n",
    "        self.vel = -10.5 #negative because in CG negative represents upward while positive represents downwards\n",
    "        self.tick_count = 0 #set to 0 because we need to know when we are changing directions/velocities\n",
    "        self.height = self.y #to keep track where the plane last jumped from\n",
    "    \n",
    "    def move(self): \n",
    "        self.tick_count += 1 #how many times we moved since the last jump\n",
    "                #by moved, I mean the frame changed\n",
    "            \n",
    "        d = self.vel*(self.tick_count) + 1.5*(self.tick_count**2)  # calculate displacement\n",
    "        \n",
    "        #terminal velocity\n",
    "        if d>=16:     #to not go less than 16px downwards\n",
    "            d = (d/abs(d)) * 16\n",
    "        \n",
    "        if d<0 : \n",
    "            d -= 2  #to not jump abruptly\n",
    "            \n",
    "        self.y = self.y + d\n",
    "        \n",
    "        if d<0 or self.y<self.height+50 :  #if we are moving upwards \n",
    "            if self.tilt < self.maxrot: #so that we don't tilt the plane to some unexpected direction\n",
    "                self.tilt = self.maxrot\n",
    "                \n",
    "        else:\n",
    "            if self.tilt > -90:\n",
    "                self.tilt -= self.rotvel  #rotating the plane completely downwards(90) \n",
    "    \n",
    "    def draw(self, win):\n",
    "        \n",
    "        self.img_count += 1\n",
    "        \n",
    "        #deciding which plane image to show based on the time elapsed\n",
    "        if self.img_count < self.anitime:\n",
    "            self.imgs = planeimgs[0]\n",
    "        elif self.img_count < self.anitime*2:\n",
    "            self.imgs = planeimgs[1]\n",
    "        elif self.img_count < self.anitime*3:\n",
    "            self.imgs = planeimgs[2]\n",
    "        elif self.img_count < self.anitime*4:\n",
    "            self.imgs = planeimgs[1]\n",
    "        elif self.img_count == self.anitime*4 + 1:\n",
    "            self.imgs = planeimgs[0]\n",
    "            self.img_count = 0\n",
    "            \n",
    "        # so when bird is nose diving it isn't flapping\n",
    "        if self.tilt <= -80:\n",
    "            self.imgs = planeimgs[1]\n",
    "            self.img_count = self.anitime*2\n",
    "            \n",
    "        #rotating the plane\n",
    "        rimg = pg.transform.rotate(self.imgs,self.tilt)\n",
    "        n_rect = rimg.get_rect(center = self.imgs.get_rect(topleft = (self.x,self.y)).center)\n",
    "        win.blit(rimg,n_rect.topleft)\n",
    "        \n",
    "    def get_mask(self):\n",
    "        return pg.mask.from_surface(self.imgs)\n",
    "    \n",
    "    def xy(self):\n",
    "        return type(self.imgs)"
   ]
  },
  {
   "cell_type": "markdown",
   "metadata": {},
   "source": [
    "## Rock Class"
   ]
  },
  {
   "cell_type": "code",
   "execution_count": 8,
   "metadata": {},
   "outputs": [],
   "source": [
    "class Rock:\n",
    "    gap=-190 #space between top and bottom rock\n",
    "    vel=5 #speed with which the rock must move toward the plane\n",
    "    \n",
    "    def __init__(self,x):\n",
    "        self.x=x\n",
    "        self.height=0 #height of the rock\n",
    "        self.top=0 #length of the top rock\n",
    "        self.bottom=0 #length of the bottom rock\n",
    "        self.rocktop=pg.transform.flip(hurdleimg,False,True) #flips for the upside dowm image\n",
    "        self.rockbottom=hurdleimg\n",
    "        self.passed= False #if the bird has already passed by the obstacle/collision purposes\n",
    "        self.set_height()\n",
    "    \n",
    "    def set_height(self):  #getting the position where our rocks should appear\n",
    "        self.height=random.randrange(200,400)\n",
    "        self.top=self.height-self.rocktop.get_height()\n",
    "        self.bottom=self.height-self.gap\n",
    "    \n",
    "    def move(self): #moving the rocks toward the left\n",
    "        self.x -= self.vel\n",
    "    \n",
    "    def draw(self,win):\n",
    "        win.blit(self.rocktop,(self.x,self.top))\n",
    "        win.blit(self.rockbottom,(self.x,self.bottom))\n",
    "    \n",
    "    def collide(self,plane): #checking if the top and bottom rocks are colliding or the rocks and plane are colliding\n",
    "        \n",
    "        #getting the masks of each of the elements under comparison\n",
    "        plane_mask=plane.get_mask()\n",
    "        top_mask=pg.mask.from_surface(self.rocktop)\n",
    "        bottom_mask=pg.mask.from_surface(self.rockbottom)\n",
    "        \n",
    "        #offsets represent how far these masks are from each other\n",
    "        top_offset=(self.x-plane.x,self.top-round(plane.y)) #offset of the plane from the top mask\n",
    "        bottom_offset=(self.x-plane.x,self.bottom-round(plane.y))\n",
    "        \n",
    "        #to find if the masks are colliding\n",
    "        b_point=plane_mask.overlap(bottom_mask,bottom_offset)\n",
    "        t_point=plane_mask.overlap(top_mask,top_offset)\n",
    "        \n",
    "        if t_point or b_point:\n",
    "            return True #collision is occuring\n",
    "        return False\n",
    "    "
   ]
  },
  {
   "cell_type": "markdown",
   "metadata": {},
   "source": [
    "## Ground Class"
   ]
  },
  {
   "cell_type": "code",
   "execution_count": 9,
   "metadata": {},
   "outputs": [],
   "source": [
    "class Ground:\n",
    "    vel=5\n",
    "    width=baseimg.get_width()\n",
    "    img=baseimg\n",
    "\n",
    "    def __init__(self,y):\n",
    "        self.y=y\n",
    "        self.x1=0\n",
    "        self.x2=self.width\n",
    "        \n",
    "    def move(self):\n",
    "        self.x1 -= self.vel\n",
    "        self.x2 -= self.vel\n",
    "        \n",
    "        #for a continuously moving ground effect, we use two ground images that are displayed one after the other in a loop\n",
    "        #if an image is off the screen, we cycle it back behind the next image and vice versa\n",
    "        if self.x1+self.width<0 :\n",
    "            self.x1= self.x2+self.width\n",
    "        \n",
    "        if self.x2+self.width<0 :\n",
    "            self.x2=self.x1+self.width\n",
    "            \n",
    "    def draw(self,win):\n",
    "        win.blit(self.img,(self.x1,self.y))\n",
    "        win.blit(self.img,(self.x2,self.y))\n",
    "        "
   ]
  },
  {
   "cell_type": "markdown",
   "metadata": {},
   "source": [
    "## Main functions for displaying the work above"
   ]
  },
  {
   "cell_type": "code",
   "execution_count": 10,
   "metadata": {},
   "outputs": [],
   "source": [
    "def draw_window(win,planes,rocks,base,score,gen):\n",
    "    win.blit(bgimg, (0,0)) #blit just draws\n",
    "    \n",
    "    for rock in rocks:\n",
    "        rock.draw(win)\n",
    "    \n",
    "    text= stat_font.render(\"Score: \" + str(score),1,(255,255,255))\n",
    "    win.blit(text, (w_width - 10 - text.get_width(),10))\n",
    "    \n",
    "    text= stat_font.render(\"Generation: \" + str(gen),1,(255,255,255))\n",
    "    win.blit(text, (10,10))\n",
    "    \n",
    "    base.draw(win)\n",
    "    \n",
    "    for plane in planes:\n",
    "        plane.draw(win)\n",
    "    pg.display.update()"
   ]
  },
  {
   "cell_type": "code",
   "execution_count": 11,
   "metadata": {
    "scrolled": true
   },
   "outputs": [],
   "source": [
    "def main(genomes, config):\n",
    "    global gen\n",
    "    gen+=1\n",
    "    nets=[]\n",
    "    ge=[]\n",
    "    \n",
    "    planes = []\n",
    "    \n",
    "    for _,g in genomes:\n",
    "        net = neat.nn.FeedForwardNetwork.create(g, config)\n",
    "        nets.append(net)\n",
    "        planes.append(Plane(230,350))\n",
    "        g.fitness = 0\n",
    "        ge.append(g)\n",
    "    \n",
    "    base = Ground(650)\n",
    "    rocks=[Rock(730)]\n",
    "    win = pg.display.set_mode((w_width,w_height))\n",
    "    \n",
    "    clock = pg.time.Clock()\n",
    "\n",
    "    score=0\n",
    "    \n",
    "    run = True\n",
    "    \n",
    "    while run:\n",
    "        \n",
    "        clock.tick(25) #the more the value here, the slower frames will change per second\n",
    "        for event in pg.event.get():\n",
    "            if event.type == pg.QUIT:\n",
    "                run = False\n",
    "                pg.quit()\n",
    "                quit() \n",
    "                \n",
    "        rock_ind = 0\n",
    "        if len(planes)>0:\n",
    "            if len(rocks)>1 and planes[0].x > rocks[0].x + rocks[0].rocktop.get_width():\n",
    "                rock_ind = 1\n",
    "        else:\n",
    "            run=False\n",
    "            break\n",
    "                \n",
    "        for x,plane in enumerate(planes):\n",
    "            plane.move()\n",
    "            ge[x].fitness += 0.1\n",
    "            \n",
    "            output = nets[planes.index(plane)].activate((plane.y, abs(plane.y - rocks[rock_ind].height), abs(plane.y - rocks[rock_ind].bottom)))\n",
    "                    \n",
    "            if output[0]>0.5:\n",
    "                plane.jump()\n",
    "                \n",
    "        #plane.move() \n",
    "        add_rock=False\n",
    "        rem=[]\n",
    "        \n",
    "        for rock in rocks:\n",
    "            \n",
    "            for x,plane in enumerate(planes):\n",
    "                \n",
    "                if rock.collide(plane):\n",
    "                    ge[x].fitness -= 1 #everytime a bird hits a pipe, 1 is decreased from its fitness score\n",
    "                    planes.pop(x)\n",
    "                    nets.pop(x)\n",
    "                    ge.pop(x)\n",
    "                    \n",
    "                if not rock.passed and rock.x < plane.x:\n",
    "                    rock.passed=True\n",
    "                    add_rock=True \n",
    "            \n",
    "            if rock.x+rock.rocktop.get_width()<0: #if the rock is completeley off the screen\n",
    "                    rem.append(rock)\n",
    "            \n",
    "            rock.move()\n",
    "            \n",
    "        if add_rock:\n",
    "            score+=1\n",
    "            for g in ge:\n",
    "                g.fitness += 5 #giving the planes that have reached the next level an increment of 5 in their fitness score\n",
    "            rocks.append(Rock(730))\n",
    "    \n",
    "        for r in rem:\n",
    "            rocks.remove(r)\n",
    "            \n",
    "        for x,plane in enumerate(planes):\n",
    "            if plane.y+plane.imgs.get_height() >= 730 or plane.y<0: #if the plane hits the ground or jumps higher than the limit\n",
    "                planes.pop(x)\n",
    "                nets.pop(x)\n",
    "                ge.pop(x)\n",
    "                \n",
    "        if score>50:\n",
    "            break\n",
    "        \n",
    "        \n",
    "        base.move()\n",
    "        draw_window(win,planes,rocks,base,score,gen)  "
   ]
  },
  {
   "cell_type": "markdown",
   "metadata": {},
   "source": [
    "## NEAT Algorithm implementation"
   ]
  },
  {
   "cell_type": "markdown",
   "metadata": {},
   "source": [
    "**Input** - position of the plane (just the y coordinate), coordinate of the top pipe and the bottom pipe\n",
    "\n",
    "**Output** - jump or don't jump\n",
    "\n",
    "**Activation function** - tan h (hyperbolic tangent) ranges from (-1,1)\n",
    "\n",
    "**Population size** (how many planes flying in each generation) - 150 planes\n",
    "\n",
    "**Fitness function** - the farther the plane is, the more it scored\n",
    "\n",
    "**Max number of generation** - 30"
   ]
  },
  {
   "cell_type": "code",
   "execution_count": 12,
   "metadata": {},
   "outputs": [],
   "source": [
    "def run(config_path):\n",
    "    #giving it the properties to set\n",
    "    config = neat.config.Config(neat.DefaultGenome, neat.DefaultReproduction,\n",
    "                                neat.DefaultSpeciesSet, neat.DefaultStagnation, config_path) \n",
    "    \n",
    "    p = neat.Population(config)\n",
    "    \n",
    "    #to create visuals\n",
    "    p.add_reporter(neat.StdOutReporter(True))\n",
    "    stats = neat.StatisticsReporter()\n",
    "    p.add_reporter(stats)\n",
    "    \n",
    "    winner = p.run(main,50)"
   ]
  },
  {
   "cell_type": "code",
   "execution_count": 13,
   "metadata": {},
   "outputs": [
    {
     "name": "stdout",
     "output_type": "stream",
     "text": [
      "\n",
      " ****** Running generation 0 ****** \n",
      "\n",
      "Population's average fitness: 6.12133 stdev: 8.26955\n",
      "Best fitness: 76.20000 - size: (1, 3) - species 1 - id 30\n",
      "Average adjusted fitness: 0.054\n",
      "Mean genetic distance 1.078, standard deviation 0.427\n",
      "Population of 150 members in 1 species:\n",
      "   ID   age  size  fitness  adj fit  stag\n",
      "  ====  ===  ====  =======  =======  ====\n",
      "     1    0   150     76.2    0.054     0\n",
      "Total extinctions: 0\n",
      "Generation time: 23.440 sec\n",
      "\n",
      " ****** Running generation 1 ****** \n",
      "\n",
      "Population's average fitness: 14.22667 stdev: 63.34127\n",
      "Best fitness: 775.20000 - size: (2, 4) - species 1 - id 267\n",
      "\n",
      "Best individual in generation 1 meets fitness threshold - complexity: (2, 4)\n"
     ]
    }
   ],
   "source": [
    "if __name__ == '__main__':\n",
    "#     local_dir = os.path.dirname(__file__) #gives us the path of the directory we currently are in\n",
    "    config_path = os.path.join(\"config_feedforward.txt\") \n",
    "    run(config_path)"
   ]
  }
 ],
 "metadata": {
  "kernelspec": {
   "display_name": "Python 3",
   "language": "python",
   "name": "python3"
  },
  "language_info": {
   "codemirror_mode": {
    "name": "ipython",
    "version": 3
   },
   "file_extension": ".py",
   "mimetype": "text/x-python",
   "name": "python",
   "nbconvert_exporter": "python",
   "pygments_lexer": "ipython3",
   "version": "3.5.6"
  }
 },
 "nbformat": 4,
 "nbformat_minor": 4
}
